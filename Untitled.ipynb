{
 "cells": [
  {
   "cell_type": "code",
   "execution_count": 22,
   "id": "30ca749e-e2b0-436f-8d1d-b793afb2d94f",
   "metadata": {},
   "outputs": [
    {
     "data": {
      "text/html": [
       "<div>\n",
       "<style scoped>\n",
       "    .dataframe tbody tr th:only-of-type {\n",
       "        vertical-align: middle;\n",
       "    }\n",
       "\n",
       "    .dataframe tbody tr th {\n",
       "        vertical-align: top;\n",
       "    }\n",
       "\n",
       "    .dataframe thead th {\n",
       "        text-align: right;\n",
       "    }\n",
       "</style>\n",
       "<table border=\"1\" class=\"dataframe\">\n",
       "  <thead>\n",
       "    <tr style=\"text-align: right;\">\n",
       "      <th></th>\n",
       "      <th>Disease</th>\n",
       "      <th>Fever</th>\n",
       "      <th>Cough</th>\n",
       "      <th>Fatigue</th>\n",
       "      <th>Difficulty Breathing</th>\n",
       "      <th>Age</th>\n",
       "      <th>Gender</th>\n",
       "      <th>Blood Pressure</th>\n",
       "      <th>Cholesterol Level</th>\n",
       "      <th>Outcome Variable</th>\n",
       "    </tr>\n",
       "  </thead>\n",
       "  <tbody>\n",
       "    <tr>\n",
       "      <th>0</th>\n",
       "      <td>Influenza</td>\n",
       "      <td>Yes</td>\n",
       "      <td>No</td>\n",
       "      <td>Yes</td>\n",
       "      <td>Yes</td>\n",
       "      <td>19</td>\n",
       "      <td>Female</td>\n",
       "      <td>Low</td>\n",
       "      <td>Normal</td>\n",
       "      <td>Positive</td>\n",
       "    </tr>\n",
       "    <tr>\n",
       "      <th>1</th>\n",
       "      <td>Common Cold</td>\n",
       "      <td>No</td>\n",
       "      <td>Yes</td>\n",
       "      <td>Yes</td>\n",
       "      <td>No</td>\n",
       "      <td>25</td>\n",
       "      <td>Female</td>\n",
       "      <td>Normal</td>\n",
       "      <td>Normal</td>\n",
       "      <td>Negative</td>\n",
       "    </tr>\n",
       "    <tr>\n",
       "      <th>2</th>\n",
       "      <td>Eczema</td>\n",
       "      <td>No</td>\n",
       "      <td>Yes</td>\n",
       "      <td>Yes</td>\n",
       "      <td>No</td>\n",
       "      <td>25</td>\n",
       "      <td>Female</td>\n",
       "      <td>Normal</td>\n",
       "      <td>Normal</td>\n",
       "      <td>Negative</td>\n",
       "    </tr>\n",
       "  </tbody>\n",
       "</table>\n",
       "</div>"
      ],
      "text/plain": [
       "       Disease Fever Cough Fatigue Difficulty Breathing  Age  Gender  \\\n",
       "0    Influenza   Yes    No     Yes                  Yes   19  Female   \n",
       "1  Common Cold    No   Yes     Yes                   No   25  Female   \n",
       "2       Eczema    No   Yes     Yes                   No   25  Female   \n",
       "\n",
       "  Blood Pressure Cholesterol Level Outcome Variable  \n",
       "0            Low            Normal         Positive  \n",
       "1         Normal            Normal         Negative  \n",
       "2         Normal            Normal         Negative  "
      ]
     },
     "execution_count": 22,
     "metadata": {},
     "output_type": "execute_result"
    }
   ],
   "source": [
    "import pandas as pd\n",
    "#load dataset\n",
    "df=pd.read_csv('Disease_symptom.csv')\n",
    "\n",
    "#inspect data\n",
    "df.head(3)"
   ]
  },
  {
   "cell_type": "code",
   "execution_count": 8,
   "id": "d43561fa-d1b6-4185-92b8-2d780158c53c",
   "metadata": {},
   "outputs": [
    {
     "name": "stdout",
     "output_type": "stream",
     "text": [
      "Disease                 0\n",
      "Fever                   0\n",
      "Cough                   0\n",
      "Fatigue                 0\n",
      "Difficulty Breathing    0\n",
      "Age                     0\n",
      "Gender                  0\n",
      "Blood Pressure          0\n",
      "Cholesterol Level       0\n",
      "Outcome Variable        0\n",
      "dtype: int64\n"
     ]
    }
   ],
   "source": [
    "#data cleaning \n",
    "#check for negative values\n",
    "print(df.isnull().sum())"
   ]
  },
  {
   "cell_type": "code",
   "execution_count": 9,
   "id": "c4bc8b0d-24c6-41b3-af2c-03095c404699",
   "metadata": {},
   "outputs": [],
   "source": [
    "#dropping  missing rows if present\n",
    "df.dropna(inplace=True)"
   ]
  },
  {
   "cell_type": "code",
   "execution_count": 23,
   "id": "b72f1adf-7b4b-4eb5-afb4-47c911ba0993",
   "metadata": {},
   "outputs": [
    {
     "data": {
      "text/plain": [
       "Disease                 object\n",
       "Fever                   object\n",
       "Cough                   object\n",
       "Fatigue                 object\n",
       "Difficulty Breathing    object\n",
       "Age                      int64\n",
       "Gender                  object\n",
       "Blood Pressure          object\n",
       "Cholesterol Level       object\n",
       "Outcome Variable        object\n",
       "dtype: object"
      ]
     },
     "execution_count": 23,
     "metadata": {},
     "output_type": "execute_result"
    }
   ],
   "source": [
    "# finding data types of columns\n",
    "df.dtypes"
   ]
  },
  {
   "cell_type": "code",
   "execution_count": 24,
   "id": "5d2f76a2-6731-4694-9696-d95ca4bf66ac",
   "metadata": {},
   "outputs": [
    {
     "name": "stdout",
     "output_type": "stream",
     "text": [
      "Index                     128\n",
      "Disease                 24389\n",
      "Fever                   20766\n",
      "Cough                   20758\n",
      "Fatigue                 20833\n",
      "Difficulty Breathing    20679\n",
      "Age                      2792\n",
      "Gender                  21641\n",
      "Blood Pressure          21599\n",
      "Cholesterol Level       21553\n",
      "Outcome Variable        22685\n",
      "dtype: int64\n",
      "Index                     128\n",
      "Disease                 24389\n",
      "Fever                     576\n",
      "Cough                     576\n",
      "Fatigue                   576\n",
      "Difficulty Breathing      576\n",
      "Age                      2792\n",
      "Gender                  21641\n",
      "Blood Pressure          21599\n",
      "Cholesterol Level       21553\n",
      "Outcome Variable        22685\n",
      "dtype: int64\n"
     ]
    }
   ],
   "source": [
    "\n",
    "#memory usage before converting to categorical\n",
    "\n",
    "print(df.memory_usage(deep=True))\n",
    "\n",
    "#converting categorical columns to appropriate data types\n",
    "\n",
    "df['Fever']=df['Fever'].astype('category')\n",
    "df['Cough']=df['Cough'].astype('category')\n",
    "df['Fatigue']=df['Fatigue'].astype('category')\n",
    "df['Difficulty Breathing']=df['Difficulty Breathing'].astype('category')\n",
    "\n",
    "#memory usage after converting to categorical\n",
    "\n",
    "print(df.memory_usage(deep=True))\n"
   ]
  },
  {
   "cell_type": "code",
   "execution_count": 20,
   "id": "42f336e7-707c-4f10-bbdc-045813a47730",
   "metadata": {},
   "outputs": [
    {
     "data": {
      "text/plain": [
       "Disease                   object\n",
       "Fever                   category\n",
       "Cough                     object\n",
       "Fatigue                   object\n",
       "Difficulty Breathing      object\n",
       "Age                        int64\n",
       "Gender                    object\n",
       "Blood Pressure            object\n",
       "Cholesterol Level         object\n",
       "Outcome Variable          object\n",
       "dtype: object"
      ]
     },
     "execution_count": 20,
     "metadata": {},
     "output_type": "execute_result"
    }
   ],
   "source": [
    "df.dtypes"
   ]
  },
  {
   "cell_type": "code",
   "execution_count": null,
   "id": "96f6f2c9-99c3-4e4f-aa02-b481c92b2e82",
   "metadata": {},
   "outputs": [],
   "source": []
  }
 ],
 "metadata": {
  "kernelspec": {
   "display_name": "datascience",
   "language": "python",
   "name": "datascience"
  },
  "language_info": {
   "codemirror_mode": {
    "name": "ipython",
    "version": 3
   },
   "file_extension": ".py",
   "mimetype": "text/x-python",
   "name": "python",
   "nbconvert_exporter": "python",
   "pygments_lexer": "ipython3",
   "version": "3.10.9"
  }
 },
 "nbformat": 4,
 "nbformat_minor": 5
}
